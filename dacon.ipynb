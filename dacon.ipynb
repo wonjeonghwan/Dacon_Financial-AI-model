{
 "cells": [
  {
   "cell_type": "code",
   "execution_count": 1,
   "id": "c949af5a",
   "metadata": {},
   "outputs": [
    {
     "name": "stderr",
     "output_type": "stream",
     "text": [
      "c:\\Users\\wonje\\miniconda3\\envs\\Dacon\\lib\\site-packages\\tqdm\\auto.py:21: TqdmWarning: IProgress not found. Please update jupyter and ipywidgets. See https://ipywidgets.readthedocs.io/en/stable/user_install.html\n",
      "  from .autonotebook import tqdm as notebook_tqdm\n",
      "Loading checkpoint shards: 100%|██████████| 4/4 [00:32<00:00,  8.06s/it]\n"
     ]
    }
   ],
   "source": [
    "from transformers import AutoModelForCausalLM, AutoTokenizer\n",
    "\n",
    "model_dir = \"gemma/gemma-3n-E4B-it\"  # 다운로드 받은 모델 경로\n",
    "\n",
    "tokenizer = AutoTokenizer.from_pretrained(model_dir)\n",
    "model = AutoModelForCausalLM.from_pretrained(model_dir)"
   ]
  },
  {
   "cell_type": "code",
   "execution_count": null,
   "id": "90813d9a",
   "metadata": {},
   "outputs": [
    {
     "name": "stdout",
     "output_type": "stream",
     "text": [
      "Q: 한국의 수도는 어디인가요?\n",
      "A: 한국의 수도는 서울입니다.\n",
      "\n",
      "이 질문과 답변은 명확하고 간결하며 정확합니다. 질문에 대한 답이 빠르고 이해하기 쉽습니다. 또한 답변은 질문의 맥락을 벗어나지 않습니다.\n",
      "\n",
      "이 질문과 답변은 좋은 예시입니다.\n",
      "\n"
     ]
    }
   ],
   "source": [
    "# ✅ 답변 생성 옵션 (자유롭게 수정 가능)\n",
    "gen_kwargs = {\n",
    "    \"max_new_tokens\": 100,\n",
    "    \"do_sample\": True,\n",
    "    \"top_p\": 0.9,\n",
    "    \"temperature\": 0.7,\n",
    "}\n",
    "\n",
    "# ✅ 질문\n",
    "questions = [\n",
    "    \"한국의 수도는 어디인가요?\"\n",
    "]\n",
    "\n",
    "# ✅ 실행 루프\n",
    "for q in questions:\n",
    "    # Q/A 형식으로 프롬프트 구성\n",
    "    prompt = f\"질문:{q}\\n답변:\"\n",
    "    \n",
    "    inputs = tokenizer(prompt, return_tensors=\"pt\")\n",
    "\n",
    "    outputs = model.generate(**inputs, **gen_kwargs)\n",
    "    \n",
    "    answer = tokenizer.decode(outputs[0], skip_special_tokens=True)\n",
    "\n",
    "    print(f\"Q: {q}\\nA: {answer}\\n\")\n"
   ]
  },
  {
   "cell_type": "code",
   "execution_count": null,
   "id": "9d58f2f3",
   "metadata": {},
   "outputs": [
    {
     "name": "stdout",
     "output_type": "stream",
     "text": [
      "Q: 한국의 수도는 어디인가요?\n",
      "A: 한국의 수도는 서울입니다.\n",
      "\n"
     ]
    }
   ],
   "source": [
    "gen_kwargs = {\n",
    "    \"max_new_tokens\": 50,   # 생성할 토큰 수\n",
    "    \"do_sample\": True,      # 확률적 샘플링 사용, False 하면 더 단답 & 일괄적\n",
    "    \"top_p\": 0.9,           # nucleus sampling. 누적확률 0.9까지 후보집합에서 샘플링\n",
    "    \"temperature\": 0.7,     # 1에 가까울수록 다양성 증가\n",
    "}\n",
    "\n",
    "questions = [\n",
    "    \"한국의 수도는 어디인가요?\"\n",
    "]\n",
    "\n",
    "for q in questions:\n",
    "    # Q/A 프롬프트 (짧게 유도)\n",
    "    prompt = f\"질문: {q}\\n답변(짧게 한 줄로):\"\n",
    "    inputs = tokenizer(prompt, return_tensors=\"pt\")\n",
    "\n",
    "    outputs = model.generate(**inputs, **gen_kwargs)\n",
    "    input_length = inputs[\"input_ids\"].shape[1]\n",
    "\n",
    "    answer_ids = outputs[0][input_length:]\n",
    "    answer_text = tokenizer.decode(answer_ids, skip_special_tokens=True).strip()\n",
    "    \n",
    "    # 첫 줄만 추출\n",
    "    answer = answer_text.split(\"\\n\")[0].strip()\n",
    "\n",
    "    print(f\"Q: {q}\\nA: {answer}\\n\")\n"
   ]
  }
 ],
 "metadata": {
  "kernelspec": {
   "display_name": "Dacon",
   "language": "python",
   "name": "python3"
  },
  "language_info": {
   "codemirror_mode": {
    "name": "ipython",
    "version": 3
   },
   "file_extension": ".py",
   "mimetype": "text/x-python",
   "name": "python",
   "nbconvert_exporter": "python",
   "pygments_lexer": "ipython3",
   "version": "3.10.18"
  }
 },
 "nbformat": 4,
 "nbformat_minor": 5
}
